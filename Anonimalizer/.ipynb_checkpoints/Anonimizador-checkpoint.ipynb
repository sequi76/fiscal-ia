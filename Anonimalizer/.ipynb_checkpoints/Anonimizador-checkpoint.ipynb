{
 "cells": [
  {
   "cell_type": "markdown",
   "id": "238dbbb9-e0a3-4e44-9e42-290f19403c27",
   "metadata": {},
   "source": [
    "## Anonimizador\n",
    "En 'texto' debe ingresar el texto a anonimizar, y en 'titulo' el titulo que desea para los archivos.\n",
    "La función genera un archivo .txt con el texto anonimo, y un archivo .csv con todo lo reemplazado."
   ]
  },
  {
   "cell_type": "code",
   "execution_count": 2,
   "id": "896ddec2-9459-47fb-968f-db153fd56aed",
   "metadata": {},
   "outputs": [
    {
     "data": {
      "text/plain": [
       "('Esto es un ejemplo donde NOMBRE APELLIDO de DNI  XX.XXX.XXX con domicilio en DOMICILIO de Mar_del_Plata denuncio a la Provincia de Buenos_Aires con el legajo XXXXXX-X*XX por inundaciones en su campo de Mar_del_Plata',\n",
       " [['26.775.345'], ['255676'], [' Av. Colon '], 'Andres', 'Andres', 'Peralta'])"
      ]
     },
     "execution_count": 2,
     "metadata": {},
     "output_type": "execute_result"
    }
   ],
   "source": [
    "from Anonimalizer import *\n",
    "\n",
    "###\n",
    "## Lo que sigue es un ejemplo del funcionamiento del \"anonimizador\"\n",
    "#\n",
    "texto = '''Horacio Fabián Ovejero, DNI 17.741.269, por derecho propio, con el patrocinio letrado de Agustín Juan Ameztoy, abogado (To IX Fo 366 del CADJMd CUIT: 20-24914804-1, IVA Responsable Inscripto, II.BB. 20-24914804-1, Legajo Previsional 070653-3*08, Número de celular: 0223-155-230352, m ameztoy@fibertel.com.ar), constituyendo domicilio en calle Santiago del Estero No 1330 de Mar del Plata y domicilio electrónico e 20249148041@notificaciones.scba.gov.ar, a V.S. respetuosamente me presento y digo: I. OBJETO En el carácter invocado, promuevo demanda contenciosa en los términos del artículo 12.1 del Código Contencioso Administrativo de la Provincia Buenos Aires contra la Agencia de Recaudación de la Provincia de Buenos Aires (A.R.B.A), con domicilio en Av. Colón No 3032 de Mar del Plata efectos de que V.S. declare: 1. la nulidad por inconstitucionalidad del artículo 4 incisos 2 y 4 (parcialmente) del R.N. ARBA No 8/2020 por exceso reglamentario respecto los artícul 8, 9 y 10 de la ley 15.165 (art. 28 y 99 inc. 2 C.N. y art. 144 inc. 2 C.N. Pcia.), declarando su inaplicabilidad a la actora, sin perjuicio de los dem requisitos legales y reglamentarios que fueran aplicables a las demás deudas fiscales, excepto el límite temporal del artículo 1 de la R.N. ARBA 8/2020;  2. mi derecho a acceder a las condiciones previstas por el régimen legal indicado una vez firme la sentencia, con relación a deuda, intereses, recargos multas en carácter de responsable solidario de agentes de recaudación, sin que sea exigible el requisito de haberse solicitado en el lapso que indica artículo 1 de la R.N. ARBA No 8/2020. II. COMPETENCIA V.S. resulta competente para entender en la acción pues la demandada tiene domicilio Av. Colón No 3032 de Mar del Plata (arts. 2, 3, 5 y concordant del C.C.A.) y esta contribuyente tiene su domicilio en calle Calchaquíes e/ Yanquetruz y Caupolica – Barrio Bosque Peralta Ramos de Mar del Plata y esta ciudad me encuentro radicado. III. ADMISIBILIDAD DE LA ACCIÓN. 1. No se requiere agotamiento de vía administrativa. Se trata de la impugnación de un acto de carácter general, dictado por el máximo órgano de u. entidad autárquica. 2. El depósito previo es inexigible. El mismo sólo se exige en aquellos casos en que se promueva una acción “contra un acto administrativo que impon la obligación tributaria de dar sumas de dinero”, y no es el caso, ya que se impugna un acto general que no intima pago alguno.'''\n",
    "titulo = '''Ejemplo'''\n",
    "Anonimalizer(texto, titulo) \n"
   ]
  },
  {
   "cell_type": "code",
   "execution_count": null,
   "id": "8ce05b8d-934b-44bf-bfd4-e22664d931c3",
   "metadata": {},
   "outputs": [],
   "source": []
  }
 ],
 "metadata": {
  "kernelspec": {
   "display_name": "Python 3 (ipykernel)",
   "language": "python",
   "name": "python3"
  },
  "language_info": {
   "codemirror_mode": {
    "name": "ipython",
    "version": 3
   },
   "file_extension": ".py",
   "mimetype": "text/x-python",
   "name": "python",
   "nbconvert_exporter": "python",
   "pygments_lexer": "ipython3",
   "version": "3.10.12"
  }
 },
 "nbformat": 4,
 "nbformat_minor": 5
}
